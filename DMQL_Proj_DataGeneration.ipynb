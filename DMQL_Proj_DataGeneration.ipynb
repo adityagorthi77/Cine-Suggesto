{
 "cells": [
  {
   "cell_type": "code",
   "execution_count": 7,
   "id": "330ebfe5",
   "metadata": {},
   "outputs": [
    {
     "name": "stdout",
     "output_type": "stream",
     "text": [
      "CSV file 'sample_users.csv' generated successfully.\n"
     ]
    }
   ],
   "source": [
    "import pandas as pd\n",
    "import random\n",
    "\n",
    "# Load the MovieLens 20M dataset or a sample of it (adjust the path accordingly)\n",
    "# movielens_path = 'path/to/movielens-20m-dataset'\n",
    "ratings_df = pd.read_csv('movielens/rating.csv')\n",
    "\n",
    "# Extract unique user IDs\n",
    "unique_user_ids = ratings_df['userId'].unique()\n",
    "\n",
    "# Sample 100 user IDs\n",
    "sample_user_ids = random.sample(list(unique_user_ids), 2000)\n",
    "\n",
    "# Create a DataFrame with sample user data\n",
    "sample_users_df = pd.DataFrame({\n",
    "    'UserID': sample_user_ids,\n",
    "    'UserName': [f'User_{i}' for i in sample_user_ids],\n",
    "    'Age': [random.randint(18, 60) for _ in range(2000)],\n",
    "    'Gender': ['Male' if random.choice([True, False]) else 'Female' for _ in range(2000)]\n",
    "})\n",
    "\n",
    "# Save the DataFrame to a CSV file\n",
    "sample_users_df.to_csv('sample_users.csv', index=False)\n",
    "\n",
    "print(\"CSV file 'sample_users.csv' generated successfully.\")\n"
   ]
  },
  {
   "cell_type": "code",
   "execution_count": 14,
   "id": "db388a92",
   "metadata": {},
   "outputs": [
    {
     "name": "stdout",
     "output_type": "stream",
     "text": [
      "CSV file 'sample_movies.csv' generated successfully.\n"
     ]
    }
   ],
   "source": [
    "import pandas as pd\n",
    "import random\n",
    "import re  # Import the regular expression module\n",
    "\n",
    "# Load the MovieLens 20M dataset or a sample of it (adjust the path accordingly)\n",
    "movies_df = pd.read_csv('movielens/movie.csv')  # Assuming there's a 'movies.csv' file in the 'movielens' folder\n",
    "\n",
    "# Sample data for Movies table\n",
    "sample_movies_data = []\n",
    "\n",
    "# Regular expression pattern to extract the title and year\n",
    "pattern = re.compile(r'^(?P<Title>.*?)\\s\\((?P<Year>\\d{4})\\)$')\n",
    "\n",
    "for _, row in movies_df.iterrows():\n",
    "    # Use regex to extract title and year from the original title\n",
    "    match = pattern.match(row['title'])\n",
    "    \n",
    "    # If the pattern matches, extract title and year\n",
    "    if match:\n",
    "        title = match.group('Title')\n",
    "        year = int(match.group('Year'))\n",
    "    else:\n",
    "        # If the pattern doesn't match, use the original title and a random year\n",
    "        title = row['title']\n",
    "        year = random.randint(1990, 2023)  # Adjust the range based on your data\n",
    "    \n",
    "    sample_movies_data.append({\n",
    "        'MovieID': row['movieId'],\n",
    "        'Title': title,\n",
    "        'ReleaseYear': year,\n",
    "        'Genre': random.choice(['Action', 'Drama', 'Comedy', 'Sci-Fi', 'Thriller'])\n",
    "    })\n",
    "\n",
    "# Create a DataFrame with sample movies data\n",
    "sample_movies_df = pd.DataFrame(sample_movies_data)\n",
    "\n",
    "# Save the DataFrame to a CSV file\n",
    "sample_movies_df.to_csv('sample_movies.csv', index=False)\n",
    "\n",
    "print(\"CSV file 'sample_movies.csv' generated successfully.\")\n"
   ]
  },
  {
   "cell_type": "code",
   "execution_count": 17,
   "id": "a7bb3515",
   "metadata": {},
   "outputs": [
    {
     "name": "stdout",
     "output_type": "stream",
     "text": [
      "CSV file 'sample_ratings.csv' generated successfully.\n"
     ]
    }
   ],
   "source": [
    "import pandas as pd\n",
    "import random\n",
    "from datetime import datetime, timedelta\n",
    "\n",
    "# Load sample data for Movies and Users tables\n",
    "movies_df = pd.read_csv('sample_movies.csv')\n",
    "users_df = pd.read_csv('sample_users.csv')\n",
    "\n",
    "# Sample data for Ratings table\n",
    "sample_ratings_data = []\n",
    "\n",
    "# Counter for RatingID\n",
    "rating_id_counter = 1\n",
    "\n",
    "for _ in range(5000):  # Adjust the number of rows as needed\n",
    "    sample_ratings_data.append({\n",
    "        'RatingID': rating_id_counter,\n",
    "        'UserID': random.choice(users_df['UserID']),\n",
    "        'MovieID': random.choice(movies_df['MovieID']),\n",
    "        'Rating': round(random.uniform(1, 5), 2),\n",
    "        'Timestamp': datetime.now() - timedelta(days=random.randint(1, 365))\n",
    "    })\n",
    "    \n",
    "    rating_id_counter += 1\n",
    "\n",
    "# Create a DataFrame with sample ratings data\n",
    "sample_ratings_df = pd.DataFrame(sample_ratings_data)\n",
    "\n",
    "# Save the DataFrame to a CSV file\n",
    "sample_ratings_df.to_csv('sample_ratings.csv', index=False)\n",
    "\n",
    "print(\"CSV file 'sample_ratings.csv' generated successfully.\")\n"
   ]
  },
  {
   "cell_type": "code",
   "execution_count": 18,
   "id": "c4e42a71",
   "metadata": {},
   "outputs": [
    {
     "name": "stdout",
     "output_type": "stream",
     "text": [
      "CSV file 'sample_genres.csv' generated successfully.\n"
     ]
    }
   ],
   "source": [
    "import pandas as pd\n",
    "\n",
    "# Sample data for Genres table\n",
    "sample_genres_data = []\n",
    "\n",
    "# Assuming you have predefined genre names or you can modify this list\n",
    "genre_names = ['Action', 'Drama', 'Comedy', 'Sci-Fi', 'Thriller', 'Romance', 'Horror', 'Fantasy', 'Adventure']\n",
    "\n",
    "for genre_id, genre_name in enumerate(genre_names, start=1):\n",
    "    sample_genres_data.append({\n",
    "        'GenreID': genre_id,\n",
    "        'GenreName': genre_name\n",
    "    })\n",
    "\n",
    "# Create a DataFrame with sample genres data\n",
    "sample_genres_df = pd.DataFrame(sample_genres_data)\n",
    "\n",
    "# Save the DataFrame to a CSV file\n",
    "sample_genres_df.to_csv('sample_genres.csv', index=False)\n",
    "\n",
    "print(\"CSV file 'sample_genres.csv' generated successfully.\")\n"
   ]
  },
  {
   "cell_type": "code",
   "execution_count": 22,
   "id": "eab5f87c",
   "metadata": {},
   "outputs": [
    {
     "name": "stdout",
     "output_type": "stream",
     "text": [
      "CSV file 'sample_movie_genres.csv' generated successfully.\n"
     ]
    }
   ],
   "source": [
    "import pandas as pd\n",
    "\n",
    "# Load sample data for Movies and Genres tables\n",
    "movies_df = pd.read_csv('sample_movies.csv')\n",
    "genres_df = pd.read_csv('sample_genres.csv')\n",
    "\n",
    "# Sample data for Movies_Genres table\n",
    "sample_movie_genres_data = []\n",
    "\n",
    "for _, movie_row in movies_df.iterrows():\n",
    "    # Randomly assign genres to movies\n",
    "    movie_genres = random.sample(list(genres_df['GenreID']), k=random.randint(1, len(genres_df)))\n",
    "    \n",
    "    for genre_id in movie_genres:\n",
    "        sample_movie_genres_data.append({\n",
    "            'MovieID': movie_row['MovieID'],\n",
    "            'GenreID': genre_id\n",
    "        })\n",
    "\n",
    "# Create a DataFrame with sample Movie_Genres data\n",
    "sample_movie_genres_df = pd.DataFrame(sample_movie_genres_data)\n",
    "\n",
    "# Save the DataFrame to a CSV file\n",
    "sample_movie_genres_df.to_csv('sample_movie_genres.csv', index=False)\n",
    "\n",
    "print(\"CSV file 'sample_movie_genres.csv' generated successfully.\")\n"
   ]
  },
  {
   "cell_type": "code",
   "execution_count": null,
   "id": "ed033c0a",
   "metadata": {},
   "outputs": [],
   "source": []
  }
 ],
 "metadata": {
  "kernelspec": {
   "display_name": "Python 3 (ipykernel)",
   "language": "python",
   "name": "python3"
  },
  "language_info": {
   "codemirror_mode": {
    "name": "ipython",
    "version": 3
   },
   "file_extension": ".py",
   "mimetype": "text/x-python",
   "name": "python",
   "nbconvert_exporter": "python",
   "pygments_lexer": "ipython3",
   "version": "3.9.7"
  }
 },
 "nbformat": 4,
 "nbformat_minor": 5
}
